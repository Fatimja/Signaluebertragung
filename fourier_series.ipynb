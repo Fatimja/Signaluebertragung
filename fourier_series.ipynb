{
 "cells": [
  {
   "cell_type": "markdown",
   "metadata": {},
   "source": [
    "# Demonstration of a Fourier series representation of a symmectric rectangular pulse train"
   ]
  },
  {
   "cell_type": "markdown",
   "metadata": {},
   "source": [
    "This demo is supposed to visualize the [Fourier series](https://en.wikipedia.org/wiki/Fourier_series) representation of a periodic [rectangular pulse](https://en.wikipedia.org/wiki/Rectangular_function) train (or [square wave](https://en.wikipedia.org/wiki/Square_wave) ). \n",
    "\n",
    "This demo is written by [Markus Nölle](https://www.htw-berlin.de/hochschule/personen/person/?eid=9586) for a basic course on signals and systems hold at the [university of applied siences, Berlin](https://www.htw-berlin.de/)."
   ]
  },
  {
   "cell_type": "markdown",
   "metadata": {},
   "source": [
    "## Import libararies"
   ]
  },
  {
   "cell_type": "code",
   "execution_count": 1,
   "metadata": {},
   "outputs": [],
   "source": [
    "# notebook or inline or qt\n",
    "%matplotlib inline\n",
    "\n",
    "import matplotlib.pyplot as plt\n",
    "import numpy as np\n",
    "import ipywidgets as widgets\n",
    "\n",
    "plt.style.use('noelle.mplstyle')"
   ]
  },
  {
   "cell_type": "markdown",
   "metadata": {},
   "source": [
    "## Plot time signal and corresponding amplitudes of the Fourier coefficients"
   ]
  },
  {
   "cell_type": "markdown",
   "metadata": {},
   "source": [
    "$???$"
   ]
  },
  {
   "cell_type": "code",
   "execution_count": 2,
   "metadata": {},
   "outputs": [
    {
     "data": {
      "application/vnd.jupyter.widget-view+json": {
       "model_id": "3a28d3758b3943a4903aafebd87b3891",
       "version_major": 2,
       "version_minor": 0
      },
      "text/plain": [
       "interactive(children=(FloatSlider(value=1.0, description='T0', max=2.0, min=0.1), FloatSlider(value=2.0, descr…"
      ]
     },
     "metadata": {},
     "output_type": "display_data"
    }
   ],
   "source": [
    "def fSeries(T0=1, T=2, N=5):\n",
    "    \"\"\"Calc Fourier series coefficients of a periodic, symmetric rectangular pulse train\n",
    "    and plot them.\n",
    "    \n",
    "    N number of harminics to include\n",
    "    T0 width of the individual rect pulses\n",
    "    T period of rect pulse train\n",
    "    \"\"\"\n",
    "\n",
    "    duration = 5\n",
    "    dutyCycle = T0/T\n",
    "    f0 = 1/T\n",
    "    w0 = 2 * np.pi * f0\n",
    "\n",
    "    sr = 500\n",
    "    t = np.arange(0, duration-1/sr, 1/sr)\n",
    "\n",
    "    rect = np.zeros_like(t)\n",
    "    rect[np.mod(t, T) <= T0/2] = 1\n",
    "    rect[np.mod(t, T) >= T-T0/2] = 1\n",
    "\n",
    "    approx = 1j * np.zeros_like(rect)\n",
    "    freqs = np.arange(-N + 1, N)\n",
    "    X = 1j * np.zeros_like(freqs)\n",
    "    \n",
    "    for i, freq in enumerate(freqs):\n",
    "        X[i] = dutyCycle * np.sinc(freq * dutyCycle)\n",
    "        approx += X[i] * np.exp(1j * freq * w0 * t)        \n",
    "    \n",
    "    n_row = 1\n",
    "    n_col = 2\n",
    "    fig_size = [i*j for i,j in zip(plt.rcParams['figure.figsize'], [n_col, n_row])]\n",
    "    fig, ax = plt.subplots(n_row, n_col, figsize = fig_size)\n",
    "    ax[0].plot(t, rect, t, np.real(approx))\n",
    "    ax[0].text(0.5, 1.2, 'duty cycle: %1.2f, N: %d' %(dutyCycle, N))\n",
    "    ax[0].set(xlabel='time / s', ylim=(-0.3, 1.3), ylabel='x(t)')\n",
    "    ax[0].grid(True)\n",
    "    \n",
    "    ax[1].stem(freqs, np.abs(X), use_line_collection=True)        \n",
    "    ax[1].set(xlabel='k', ylim=(0, np.max(np.abs(X)) * 1.1), ylabel='|X[k]|')\n",
    "    ax[1].grid(True)\n",
    "\n",
    "    plt.show()\n",
    "    \n",
    "widgets.interact(fSeries, T0=(0.1, 2), T=(0.1, 5), N=(1, 99, 1));"
   ]
  },
  {
   "cell_type": "code",
   "execution_count": null,
   "metadata": {},
   "outputs": [],
   "source": []
  }
 ],
 "metadata": {
  "kernelspec": {
   "display_name": "Python 3",
   "language": "python",
   "name": "python3"
  },
  "language_info": {
   "codemirror_mode": {
    "name": "ipython",
    "version": 3
   },
   "file_extension": ".py",
   "mimetype": "text/x-python",
   "name": "python",
   "nbconvert_exporter": "python",
   "pygments_lexer": "ipython3",
   "version": "3.7.3"
  }
 },
 "nbformat": 4,
 "nbformat_minor": 2
}
