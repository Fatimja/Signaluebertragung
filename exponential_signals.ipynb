{
 "cells": [
  {
   "cell_type": "markdown",
   "metadata": {},
   "source": [
    "# Exponential signals"
   ]
  },
  {
   "cell_type": "markdown",
   "metadata": {},
   "source": [
    "---"
   ]
  },
  {
   "cell_type": "markdown",
   "metadata": {},
   "source": [
    "## Import libraries and set defaults"
   ]
  },
  {
   "cell_type": "code",
   "execution_count": 1,
   "metadata": {},
   "outputs": [],
   "source": [
    "import numpy as np\n",
    "import matplotlib.pyplot as plt\n",
    "from scipy import signal\n",
    "import ipywidgets as widgets\n",
    "\n",
    "fig_heigths = 5\n",
    "plt.rcParams['figure.figsize'] = (fig_heigths*1.6, fig_heigths)\n",
    "plt.rcParams['axes.grid'] = True\n",
    "plt.rcParams['figure.dpi'] = 150\n",
    "\n",
    "#inline, widget \n",
    "%matplotlib inline"
   ]
  },
  {
   "cell_type": "markdown",
   "metadata": {},
   "source": [
    "## Continuous signals"
   ]
  },
  {
   "cell_type": "markdown",
   "metadata": {},
   "source": [
    "$C \\cdot \\text{e}^{at} = |C| \\cdot \\text{e}^{j\\angle C} \\cdot \\text{e}^{\\text{Re}(a)t} \\cdot \\text{e}^{j\\text{Im}(a)t} $"
   ]
  },
  {
   "cell_type": "code",
   "execution_count": 2,
   "metadata": {},
   "outputs": [
    {
     "data": {
      "application/vnd.jupyter.widget-view+json": {
       "model_id": "6d4334b87b42481e995006122a025edf",
       "version_major": 2,
       "version_minor": 0
      },
      "text/plain": [
       "HBox(children=(VBox(children=(Label(value='Parameter C'), FloatSlider(value=1.0, continuous_update=False, desc…"
      ]
     },
     "metadata": {},
     "output_type": "display_data"
    },
    {
     "data": {
      "application/vnd.jupyter.widget-view+json": {
       "model_id": "c68a10a5d8324adbaf0bbf296b12b58e",
       "version_major": 2,
       "version_minor": 0
      },
      "text/plain": [
       "Output()"
      ]
     },
     "metadata": {},
     "output_type": "display_data"
    }
   ],
   "source": [
    "def plot_exp_cont_sig(C_abs = 1.0, C_angle = 0.0, a_real = -1.5, a_imag = 0*4*np.pi):\n",
    "\n",
    "    sr_cont = 1e3\n",
    "    t_cont = np.arange(0, 1-(1/sr_cont), 1/sr_cont)\n",
    "\n",
    "    C = C_abs * np.exp(1j * C_angle)\n",
    "    a = np.complex(a_real, a_imag)\n",
    "\n",
    "    y_cont = C * np.exp(a * t_cont)\n",
    "\n",
    "    n_row = 3\n",
    "    n_col = 3\n",
    "    fig = plt.figure(figsize=((n_col*fig_heigths*1.6, n_row*fig_heigths)))\n",
    "\n",
    "    ax = fig.add_subplot(3, 3, 1)\n",
    "    ax.plot(t_cont, y_cont.real, 'g')\n",
    "    ax.set(xlabel='time / s', ylabel='real(y)')\n",
    "\n",
    "    ax = fig.add_subplot(3, 3, 2)\n",
    "    ax.plot(t_cont, y_cont.imag, color='orange')\n",
    "    ax.set(xlabel='time / s', ylabel='imag(y)')\n",
    "\n",
    "    ax = fig.add_subplot(2, 3, 3)\n",
    "    ax.plot(y_cont.real, y_cont.imag, color='k');\n",
    "    absMax = 1.1* np.max(np.abs(y_cont))\n",
    "    plt.axis('square')\n",
    "    ax.set(xlabel='real(y)', ylabel='imag(y)', ylim=(-absMax, absMax), xlim=(-absMax, absMax))   \n",
    "\n",
    "    ax = fig.add_subplot(3, 3, 4)\n",
    "    ax.plot(t_cont, np.abs(y_cont))\n",
    "    ax.set(xlabel='time / s', ylabel='abs(y)')\n",
    "\n",
    "    ax = fig.add_subplot(3, 3, 5)\n",
    "    ax.plot(t_cont, np.angle(y_cont), color='r')\n",
    "    ax.set(xlabel='time / s', ylabel='angle(y)');\n",
    "\n",
    "\n",
    "style = {'description_width': '30%'}\n",
    "w_C_abs = widgets.FloatSlider(min=0, max=10, step=0.1, value=1.0, continuous_update=False, description='abs:', style=style)\n",
    "w_C_angle = widgets.FloatSlider(min=-3.2, max=3.2, step=0.1, value=0.0, continuous_update=False, description='angle:', style=style)\n",
    "w_a_real = widgets.FloatSlider(min=-10, max=10, step=0.1, value=-1.0, continuous_update=False, description='real part:', style=style)\n",
    "w_a_imag = widgets.FloatSlider(min=-30, max=30, step=0.1, value=0*2*np.pi, continuous_update=False, description='imaginary part:', style=style)\n",
    "\n",
    "left_col = widgets.VBox([widgets.Label('Parameter C'), w_C_abs, w_C_angle])\n",
    "right_col = widgets.VBox([widgets.Label('Parameter a'), w_a_real, w_a_imag])\n",
    "ui = widgets.HBox([left_col, right_col])\n",
    "\n",
    "out = widgets.interactive_output(plot_exp_cont_sig, {'C_abs':w_C_abs, 'C_angle':w_C_angle, 'a_real':w_a_real, 'a_imag':w_a_imag})\n",
    "\n",
    "display(ui, out)"
   ]
  },
  {
   "cell_type": "markdown",
   "metadata": {},
   "source": [
    "## Discrete signals"
   ]
  },
  {
   "cell_type": "markdown",
   "metadata": {},
   "source": [
    "$C \\cdot \\alpha^{n} = |C| \\cdot \\text{e}^{j\\angle C} \\cdot (|\\alpha|\\cdot \\text{e}^{j\\angle \\alpha})^n = |C| \\cdot \\text{e}^{j\\angle C} |\\alpha|^n \\cdot \\text{e}^{j\\alpha n} =|C| \\cdot \\text{e}^{j\\angle C} |\\alpha|^n \\cdot \\text{e}^{j\\omega_0n}$"
   ]
  },
  {
   "cell_type": "code",
   "execution_count": 4,
   "metadata": {},
   "outputs": [
    {
     "data": {
      "application/vnd.jupyter.widget-view+json": {
       "model_id": "816a7c07f78047a4baa91ec944589369",
       "version_major": 2,
       "version_minor": 0
      },
      "text/plain": [
       "HBox(children=(VBox(children=(Label(value='Parameter C'), FloatSlider(value=1.0, continuous_update=False, desc…"
      ]
     },
     "metadata": {},
     "output_type": "display_data"
    },
    {
     "data": {
      "application/vnd.jupyter.widget-view+json": {
       "model_id": "0ab7670c8254495aadc30ae7129dfc39",
       "version_major": 2,
       "version_minor": 0
      },
      "text/plain": [
       "Output()"
      ]
     },
     "metadata": {},
     "output_type": "display_data"
    }
   ],
   "source": [
    "def plot_exp_dis_sig(C_abs = 1.0, C_angle = 0.0, a_abs = 0.5, a_angle = 0*4*np.pi):\n",
    "\n",
    "    n = np.arange(0, 20, 1)\n",
    "\n",
    "    C = C_abs * np.exp(1j * C_angle)\n",
    "    a = a_abs * np.exp(1j * a_angle)\n",
    "\n",
    "    y_dis = C * a**n\n",
    "\n",
    "    n_row = 3\n",
    "    n_col = 3\n",
    "    fig = plt.figure(figsize=((n_col*fig_heigths*1.6, n_row*fig_heigths)))\n",
    "\n",
    "    ax = fig.add_subplot(3, 3, 1)\n",
    "    ax.stem(n, y_dis.real, 'g', use_line_collection=True)\n",
    "    ax.set(xlabel='time / samples', ylabel='real(y)')\n",
    "\n",
    "    ax = fig.add_subplot(3, 3, 2)\n",
    "    ax.stem(n, y_dis.imag, 'orange', use_line_collection=True)\n",
    "    ax.set(xlabel='time / samples', ylabel='imag(y)')\n",
    "\n",
    "    ax = fig.add_subplot(2, 3, 3)\n",
    "    ax.plot(y_dis.real, y_dis.imag, 'ok');\n",
    "    absMax = 1.1* np.max(np.abs(y_dis))\n",
    "    plt.axis('square')\n",
    "    ax.set(xlabel='real(y)', ylabel='imag(y)', ylim=(-absMax, absMax), xlim=(-absMax, absMax))\n",
    "\n",
    "\n",
    "    ax = fig.add_subplot(3, 3, 4)\n",
    "    ax.stem(n, np.abs(y_dis), use_line_collection=True)\n",
    "    ax.set(xlabel='time / samples', ylabel='abs(y)')\n",
    "\n",
    "    ax = fig.add_subplot(3, 3, 5)\n",
    "    ax.stem(n, np.angle(y_dis), 'r', use_line_collection=True)\n",
    "    ax.set(xlabel='time / samples', ylabel='angle(y)');\n",
    "\n",
    "    \n",
    "style = {'description_width': '30%'}\n",
    "w_C_abs = widgets.FloatSlider(min=0, max=10, step=0.1, value=1.0, continuous_update=False, description='abs:', style=style)\n",
    "w_C_angle = widgets.FloatSlider(min=-3.2, max=3.2, step=0.1, value=0.0, continuous_update=False, description='angle:', style=style)\n",
    "w_a_abs = widgets.FloatSlider(min=-2, max=2, step=0.1, value=0.8, continuous_update=False, description='abs:', style=style)\n",
    "w_a_angle = widgets.FloatSlider(min=-3, max=3, step=0.1, value=0*2*np.pi, continuous_update=False, description='angle:', style=style)\n",
    "\n",
    "left_col = widgets.VBox([widgets.Label('Parameter C'), w_C_abs, w_C_angle])\n",
    "right_col = widgets.VBox([widgets.Label('Parameter a'), w_a_abs, w_a_angle])\n",
    "ui = widgets.HBox([left_col, right_col])\n",
    "\n",
    "out = widgets.interactive_output(plot_exp_dis_sig, {'C_abs':w_C_abs, 'C_angle':w_C_angle, 'a_abs':w_a_abs, 'a_angle':w_a_angle})\n",
    "\n",
    "display(ui, out)"
   ]
  },
  {
   "cell_type": "code",
   "execution_count": null,
   "metadata": {},
   "outputs": [],
   "source": []
  }
 ],
 "metadata": {
  "kernelspec": {
   "display_name": "Python 3",
   "language": "python",
   "name": "python3"
  },
  "language_info": {
   "codemirror_mode": {
    "name": "ipython",
    "version": 3
   },
   "file_extension": ".py",
   "mimetype": "text/x-python",
   "name": "python",
   "nbconvert_exporter": "python",
   "pygments_lexer": "ipython3",
   "version": "3.7.3"
  }
 },
 "nbformat": 4,
 "nbformat_minor": 2
}
