{
 "cells": [
  {
   "cell_type": "markdown",
   "metadata": {},
   "source": [
    "# Visualization of properties of the Fourier transform"
   ]
  },
  {
   "cell_type": "markdown",
   "metadata": {},
   "source": [
    "This demo is supposed to visualize some [basic properties](https://en.wikipedia.org/wiki/Fourier_transform#Basic_properties) of the [Fourier transform](https://en.wikipedia.org/wiki/Fourier_transform). \n",
    "\n",
    "This demo is written by [Markus Nölle](https://www.htw-berlin.de/hochschule/personen/person/?eid=9586) for a basic course on signals and systems hold at the [university of applied siences, Berlin](https://www.htw-berlin.de/)."
   ]
  },
  {
   "cell_type": "markdown",
   "metadata": {},
   "source": [
    "## Import libraries"
   ]
  },
  {
   "cell_type": "code",
   "execution_count": 1,
   "metadata": {},
   "outputs": [],
   "source": [
    "import numpy as np\n",
    "import matplotlib.pyplot as plt\n",
    "from scipy import signal\n",
    "import ipywidgets as widgets\n",
    "\n",
    "fig_heigths = 3\n",
    "plt.rcParams['figure.figsize'] = (fig_heigths*1.6, fig_heigths)\n",
    "plt.rcParams['axes.grid'] = True\n",
    "plt.rcParams['figure.dpi'] = 150"
   ]
  },
  {
   "cell_type": "markdown",
   "metadata": {},
   "source": [
    "## Define helper functions"
   ]
  },
  {
   "cell_type": "code",
   "execution_count": 43,
   "metadata": {},
   "outputs": [],
   "source": [
    "def plot_signal(t, f, sig):\n",
    "    \n",
    "    sig[np.abs(sig) < 1e-10] = 0\n",
    "    \n",
    "    # calc spectrum of data signal\n",
    "    Sig = np.fft.fft(np.fft.fftshift(sig))\n",
    "    Sig[np.abs(Sig) < 1e-10] = 0\n",
    "    # normalize\n",
    "    SigNorm = Sig / np.max(np.abs(Sig))\n",
    "    # prepare phase for plotting\n",
    "    angle = np.unwrap(np.fft.fftshift(np.angle(SigNorm)))\n",
    "    angle -= angle[f == 0]    \n",
    "    \n",
    "    # prepare plots\n",
    "    n_row = 2\n",
    "    n_col = 4\n",
    "    fig = plt.figure(figsize=((n_col*fig_heigths*1.6, n_row*fig_heigths)))\n",
    "    \n",
    "    # plot time signal    \n",
    "    ax = fig.add_subplot(2, 4, 1)\n",
    "    ax.plot(t, np.real(sig), 'C2')\n",
    "    ax.set_xlabel('time / s')\n",
    "    ax.set_ylabel('Re(x(t)) / a.u.')    \n",
    "    \n",
    "    ax = fig.add_subplot(2, 4, 2)\n",
    "    ax.plot(t, np.imag(sig), 'C1')\n",
    "    ax.set_xlabel('time / s')\n",
    "    ax.set_ylabel('Im(x(t)) / a.u.')  \n",
    "    \n",
    "    ax = fig.add_subplot(2, 4, 5)\n",
    "    ax.plot(t, np.abs(sig))\n",
    "    ax.set_xlabel('time / s')\n",
    "    ax.set_ylabel('abs(x(t)) / a.u.')\n",
    "    ax.set_xlim(-5, 5)\n",
    "    \n",
    "    ax = fig.add_subplot(2, 4, 6)\n",
    "    ax.plot(t, np.angle(sig) / np.pi, 'C3')\n",
    "    ax.set_xlabel('time / s')\n",
    "    ax.set_ylabel('arg(x(t)) / $\\pi$ / rad')\n",
    "    ax.set_xlim(-5, 5)\n",
    "    maxAngle = np.max(angle[np.abs(f) <= 5] / np.pi)\n",
    "    minAngle = np.min(angle[np.abs(f) <= 5] / np.pi)\n",
    "    ax.set_ylim(minAngle-1, maxAngle+1)\n",
    "    \n",
    "    # plot spectrum\n",
    "    ax = fig.add_subplot(2, 4, 3)\n",
    "    ax.plot(f, np.fft.fftshift(np.real(SigNorm)) ,'C2')\n",
    "    ax.set_xlabel('frequency / Hz')\n",
    "    ax.set_ylabel('Re(X(j$\\omega$)) / a.u.')\n",
    "    ax.set_xlim(-5, 5)    \n",
    "    \n",
    "    ax = fig.add_subplot(2, 4, 4)\n",
    "    ax.plot(f, np.fft.fftshift(np.imag(SigNorm)) ,'C1')\n",
    "    ax.set_xlabel('frequency / Hz')\n",
    "    ax.set_ylabel('Im(X(j$\\omega$)) / a.u.')\n",
    "    ax.set_xlim(-5, 5)\n",
    "    ax.set_ylim(-1, 1)    \n",
    "    \n",
    "    ax = fig.add_subplot(2, 4, 7)\n",
    "    ax.plot(f, np.fft.fftshift(np.abs(SigNorm)))\n",
    "    ax.set_xlabel('frequency / Hz')\n",
    "    ax.set_ylabel('norm. abs(X(j$\\omega$)) / a.u.')\n",
    "    ax.set_xlim(-5, 5)\n",
    "    \n",
    "    ax = fig.add_subplot(2, 4, 8)\n",
    "    ax.plot(f, angle / np.pi, 'C3')\n",
    "    ax.set_xlabel('frequency / Hz')\n",
    "    ax.set_ylabel('arg(X(j$\\omega$)) / $\\pi$ / rad')\n",
    "    ax.set_xlim(-5, 5)\n",
    "    maxAngle = np.max(angle[np.abs(f) <= 5] / np.pi)\n",
    "    minAngle = np.min(angle[np.abs(f) <= 5] / np.pi)\n",
    "    ax.set_ylim(minAngle-1, maxAngle+1)\n",
    "#     print((angle[f == -5]/np.pi))    \n",
    "    \n",
    "    plt.tight_layout()\n",
    "    plt.show()"
   ]
  },
  {
   "cell_type": "code",
   "execution_count": 44,
   "metadata": {},
   "outputs": [],
   "source": [
    "def gen_signal(T=1, tau=0.0, omega_0=0.0):\n",
    "    \n",
    "    sr = 1000 # sample rate\n",
    "\n",
    "    dur = 10 # duration of signals in s        \n",
    "\n",
    "    t = np.arange(-dur/2, dur/2, 1 / sr)\n",
    "    f = np.fft.fftshift(np.fft.fftfreq(t.size, 1 / sr))\n",
    "\n",
    "    # generate rect signal\n",
    "    sig = np.zeros(t.size)\n",
    "    sig[np.abs(t - tau) <= T/2]= 1\n",
    "    \n",
    "    sig = sig * np.exp(1j * omega_0 * t)\n",
    "    \n",
    "    plot_signal(t, f, sig)"
   ]
  },
  {
   "cell_type": "markdown",
   "metadata": {},
   "source": [
    "## Time scaling property"
   ]
  },
  {
   "cell_type": "markdown",
   "metadata": {},
   "source": [
    "Assuming the [Fourier transform](https://en.wikipedia.org/wiki/Fourier_transform) (or the [frequency spectrum](https://en.wikipedia.org/wiki/Spectral_density#Explanation) ) of the time signal $x(t)$ being $X(j\\omega)$. In this case, the spectrum of the by $a$ stretched or compressed time signal is given by \n",
    "\n",
    "$$ \\mathcal{F}\\{x(at)\\} =  \\frac{1}{|a|} X\\left(\\frac{j\\omega}{a}\\right).$$\n",
    "\n",
    "This property is visualized below for the case of a rectangular time signal."
   ]
  },
  {
   "cell_type": "code",
   "execution_count": 37,
   "metadata": {},
   "outputs": [
    {
     "data": {
      "application/vnd.jupyter.widget-view+json": {
       "model_id": "1c60948d2c2049fb8d86e11b4707aae8",
       "version_major": 2,
       "version_minor": 0
      },
      "text/plain": [
       "interactive(children=(FloatSlider(value=1.0, continuous_update=False, description='T', max=5.0, min=0.1), Outp…"
      ]
     },
     "metadata": {},
     "output_type": "display_data"
    }
   ],
   "source": [
    "widgets.interact(gen_signal,\n",
    "                 T=widgets.FloatSlider(min=0.1, max=5, step=0.1, value=1, continuous_update=False),\n",
    "                 tau=widgets.fixed(0.0),\n",
    "                 omega_0=widgets.fixed(0.0));"
   ]
  },
  {
   "cell_type": "markdown",
   "metadata": {},
   "source": [
    "## Time shift property"
   ]
  },
  {
   "cell_type": "markdown",
   "metadata": {},
   "source": [
    "Assuming the Fourier transform (or the spectrum) of the time signal $x(t)$ being $X(j\\omega)$. In this case, the spectrum of the by $t_0$ temporally shifted time signal is given by \n",
    "\n",
    "$$ \\mathcal{F}\\{x(t-t_0)\\} =  X(j\\omega)\\cdot \\text{e}^{-j\\omega t_0}.$$\n",
    "\n",
    "This property is visualized below for the case of a rectangular time signal."
   ]
  },
  {
   "cell_type": "code",
   "execution_count": 38,
   "metadata": {},
   "outputs": [
    {
     "data": {
      "application/vnd.jupyter.widget-view+json": {
       "model_id": "f577489b76c84c2cb0524f567c1887f0",
       "version_major": 2,
       "version_minor": 0
      },
      "text/plain": [
       "interactive(children=(FloatSlider(value=0.0, continuous_update=False, description='tau', max=1.0, min=-1.0), O…"
      ]
     },
     "metadata": {},
     "output_type": "display_data"
    }
   ],
   "source": [
    "widgets.interact(gen_signal,\n",
    "                 tau=widgets.FloatSlider(min=-1.0, max=1.0, step=0.1, value=0.0, continuous_update=False),\n",
    "                 T=widgets.fixed(1.0),\n",
    "                 omega_0=widgets.fixed(0.0));"
   ]
  },
  {
   "cell_type": "markdown",
   "metadata": {},
   "source": [
    "## Frequency shift (modulation) property"
   ]
  },
  {
   "cell_type": "markdown",
   "metadata": {},
   "source": [
    "Assuming the Fourier transform (or the spectrum) of the time signal $x(t)$ being $X(j\\omega)$. In this case, the correspondence between the by $\\omega_0$ shifted spectrum and the corresponding time signal is given by \n",
    "\n",
    "$$ \\mathcal{F}\\{x(t)\\cdot\\text{e}^{j\\omega_0t}\\} =  X(j(\\omega-\\omega_0)).$$\n",
    "\n",
    "This property is visualized below for the case of a rectangular time signal."
   ]
  },
  {
   "cell_type": "code",
   "execution_count": 49,
   "metadata": {},
   "outputs": [
    {
     "data": {
      "application/vnd.jupyter.widget-view+json": {
       "model_id": "2775d404770c4ca292dfd9106d67faeb",
       "version_major": 2,
       "version_minor": 0
      },
      "text/plain": [
       "interactive(children=(FloatSlider(value=0.0, continuous_update=False, description='$\\\\omega_0$', max=20.0, min…"
      ]
     },
     "metadata": {},
     "output_type": "display_data"
    }
   ],
   "source": [
    "widgets.interact(gen_signal,\n",
    "                 omega_0=widgets.FloatSlider(min=-20.0, max=20.0, step=2, value=0.0, continuous_update=False, description='$\\omega_0$'),\n",
    "                 tau=widgets.fixed(0.0),\n",
    "                 T=widgets.fixed(1.0));"
   ]
  },
  {
   "cell_type": "code",
   "execution_count": 5,
   "metadata": {},
   "outputs": [
    {
     "data": {
      "text/plain": [
       "[6.0, 4.0]"
      ]
     },
     "execution_count": 5,
     "metadata": {},
     "output_type": "execute_result"
    }
   ],
   "source": [
    "plt.rcParams['figure.figsize']dd"
   ]
  }
 ],
 "metadata": {
  "kernelspec": {
   "display_name": "Python 3",
   "language": "python",
   "name": "python3"
  },
  "language_info": {
   "codemirror_mode": {
    "name": "ipython",
    "version": 3
   },
   "file_extension": ".py",
   "mimetype": "text/x-python",
   "name": "python",
   "nbconvert_exporter": "python",
   "pygments_lexer": "ipython3",
   "version": "3.7.3"
  }
 },
 "nbformat": 4,
 "nbformat_minor": 2
}
