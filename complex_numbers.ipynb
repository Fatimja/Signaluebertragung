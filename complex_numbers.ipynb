{
 "cells": [
  {
   "cell_type": "markdown",
   "metadata": {},
   "source": [
    "# Revision of complex numbers\n",
    "\n",
    "This demo is supposed to ??? [complex numbers](https://en.wikipedia.org/wiki/Complex_number) . \n",
    "\n",
    "This demo is written by [Markus Nölle](https://www.htw-berlin.de/hochschule/personen/person/?eid=9586) for a basic course on signals and systems hold at the [university of applied siences, Berlin](https://www.htw-berlin.de/)."
   ]
  },
  {
   "cell_type": "markdown",
   "metadata": {},
   "source": [
    "---\n",
    "## Import libraries and set defaults"
   ]
  },
  {
   "cell_type": "code",
   "execution_count": 5,
   "metadata": {},
   "outputs": [],
   "source": [
    "import numpy as np\n",
    "import matplotlib.pyplot as plt\n",
    "from scipy import signal\n",
    "import ipywidgets as widgets\n",
    "\n",
    "plt.style.use('noelle.mplstyle')\n",
    "\n",
    "#inline, widget \n",
    "%matplotlib inline"
   ]
  },
  {
   "cell_type": "markdown",
   "metadata": {},
   "source": [
    "---\n",
    "## Complex numbers: Definition and Visualization\n",
    "\n",
    "$$\n",
    "\\begin{eqnarray}\n",
    "z &=& \\text{Re}\\{z\\} + j\\text{ Im}\\{z\\} \\\\\n",
    "  &=& a+jb \n",
    "\\end{eqnarray}\n",
    "$$\n",
    "\n",
    "\n",
    "$$\n",
    "\\begin{eqnarray}\n",
    "z &=& \\text{abs}(z) \\cdot \\text{e}^{j\\text{ arg}(z)} \\\\\n",
    "  &=& |z| \\cdot \\text{e}^{j\\phi}\n",
    "\\end{eqnarray}\n",
    "$$\n",
    "\n",
    "\n",
    "[complex plane](https://en.wikipedia.org/wiki/Complex_plane)."
   ]
  },
  {
   "cell_type": "code",
   "execution_count": 6,
   "metadata": {},
   "outputs": [],
   "source": [
    "def plot_complex_numbers(z0=1.0+1.0j, z1=-1.0+1.0j, operator='add'):\n",
    "\n",
    "    if operator=='add':\n",
    "        z2 = z0+z1\n",
    "    elif operator=='subtract':\n",
    "        z2 = z0-z1\n",
    "    elif operator=='multiply':\n",
    "        z2 = z0*z1\n",
    "    elif operator=='divide':\n",
    "        z2 = z0/z1\n",
    "    else:\n",
    "        raise TypeError('')\n",
    "        \n",
    "    \n",
    "    n_row = 1\n",
    "    n_col = 3\n",
    "    fig_size = [i*j for i,j in zip(plt.rcParams['figure.figsize'], [n_col, n_row])]\n",
    "    fig = plt.figure(figsize=fig_size)\n",
    "    \n",
    "    x_lim = np.max(np.abs(np.asarray([z0,z1,z2]).real))*1.1\n",
    "    y_lim = np.max(np.abs(np.asarray([z0,z1,z2]).imag))*1.1\n",
    "    \n",
    "    ax = fig.add_subplot(n_row, n_col, 1)\n",
    "#     for idx, z in enumerate(c_numbers):\n",
    "    ax.arrow(0,0,z0.real, z0.imag, width=0.025, length_includes_head=True, color='C0')\n",
    "    ax.arrow(0,0,z1.real, z1.imag, width=0.025, length_includes_head=True, color='C1')\n",
    "    ax.arrow(0,0,z2.real, z2.imag, width=0.025, length_includes_head=True, color='C2')\n",
    "    ax.set(xlabel='real part', ylabel='imaginary part', xlim=(-x_lim,x_lim), ylim=(-y_lim,y_lim))\n",
    "    \n",
    "    for idx, z in enumerate([z0,z1,z2]):\n",
    "        print('z{:1d}: \\t real part:{:1.2f}, \\t imaginary part:{:1.2f}, \\t absolute value:{:1.2f}, \\t angle [rad]/[degree]:{:1.2f}/{:1.2f},'.format(idx, z.real, z.imag, np.abs(z), np.angle(z), np.angle(z)/np.pi*180))\n",
    "\n",
    "#     ax.axis('equal')\n",
    "\n",
    "\n"
   ]
  },
  {
   "cell_type": "code",
   "execution_count": 7,
   "metadata": {},
   "outputs": [
    {
     "name": "stdout",
     "output_type": "stream",
     "text": [
      "z0: \t real part:1.00, \t imaginary part:1.00, \t absolute value:1.41, \t angle [rad]/[degree]:0.79/45.00,\n",
      "z1: \t real part:-1.00, \t imaginary part:1.00, \t absolute value:1.41, \t angle [rad]/[degree]:2.36/135.00,\n",
      "z2: \t real part:0.00, \t imaginary part:2.00, \t absolute value:2.00, \t angle [rad]/[degree]:1.57/90.00,\n"
     ]
    },
    {
     "data": {
      "image/png": "[encoded data removed]",
      "text/plain": [
       "<Figure size 1296x288 with 1 Axes>"
      ]
     },
     "metadata": {
      "needs_background": "light"
     },
     "output_type": "display_data"
    }
   ],
   "source": [
    "# c_numbers = []\n",
    "z0 = 1.0+1.0j\n",
    "z1 = -1.0+1.0j\n",
    "# c_numbers.append(z0)\n",
    "# c_numbers.append(z1)\n",
    "# c_numbers.append(z0/z1)\n",
    "plot_complex_numbers(z0, z1, 'add')"
   ]
  },
  {
   "cell_type": "code",
   "execution_count": 8,
   "metadata": {},
   "outputs": [
    {
     "data": {
      "text/plain": [
       "array([1., 1.])"
      ]
     },
     "execution_count": 8,
     "metadata": {},
     "output_type": "execute_result"
    }
   ],
   "source": [
    "np.abs(np.asarray([z0,z1]).real)"
   ]
  }
 ],
 "metadata": {
  "kernelspec": {
   "display_name": "Python 3",
   "language": "python",
   "name": "python3"
  },
  "language_info": {
   "codemirror_mode": {
    "name": "ipython",
    "version": 3
   },
   "file_extension": ".py",
   "mimetype": "text/x-python",
   "name": "python",
   "nbconvert_exporter": "python",
   "pygments_lexer": "ipython3",
   "version": "3.7.6"
  }
 },
 "nbformat": 4,
 "nbformat_minor": 4
}
